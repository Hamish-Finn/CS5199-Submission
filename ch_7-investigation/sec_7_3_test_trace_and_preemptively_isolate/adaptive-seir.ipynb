{
 "cells": [
  {
   "cell_type": "markdown",
   "source": [
    "# Test, Trace and Preemptively Isolate"
   ],
   "metadata": {
    "collapsed": false
   }
  },
  {
   "cell_type": "code",
   "execution_count": 31,
   "metadata": {},
   "outputs": [],
   "source": [
    "from epyc import JSONLabNotebook, ParallelLab\n",
    "import epyc\n",
    "import epydemic\n",
    "import numpy as np\n",
    "from epydemic import SEIR, SIR, ERNetwork, Monitor, ProcessSequence, rng, SynchronousDynamics\n",
    "import matplotlib.pyplot as plt\n",
    "from parameters import *"
   ]
  },
  {
   "cell_type": "code",
   "execution_count": 32,
   "metadata": {},
   "outputs": [],
   "source": [
    "create_data_output_directory()"
   ]
  },
  {
   "cell_type": "code",
   "execution_count": 33,
   "metadata": {},
   "outputs": [],
   "source": [
    "# The code below was taken from a GitHub repo by Simon Dobson at https://github.com/simoninireland/introduction-to-epidemics/blob/master/src/seir.ipynb (last accessed 2023-11-09) and modified to implement a preemptive quarantine strategy (see symptoms()).\n",
    "class AdaptiveSEIR(SEIR):\n",
    "    P_DETECT = 'pDetect'  #: Parameter for the probability  of detecting an exposed neighbour of an infected node.\n",
    "    P_REWIRE = 'pRewire'  #: Parameter for the probability of rewiring an SE or SI edge.\n",
    "\n",
    "    def __init__(self):\n",
    "        super(AdaptiveSEIR, self).__init__()\n",
    "        self._pDetect = None\n",
    "        self._pRewire = None\n",
    "\n",
    "    def build(self, params):\n",
    "        params[self.P_SYMPTOMS] = params[self.P_REMOVE]\n",
    "        params[self.P_REMOVE] = params[self.P_REMOVE] \n",
    "\n",
    "        super(AdaptiveSEIR, self).build(params)\n",
    "\n",
    "        # store the parameters for later\n",
    "        self._pDetect = params[self.P_DETECT]\n",
    "        self._pRewire = params[self.P_REWIRE]\n",
    "\n",
    "        self.trackNodesInCompartment(epydemic.SEIR.SUSCEPTIBLE)\n",
    "        self.trackNodesInCompartment(epydemic.SEIR.REMOVED)\n",
    "\n",
    "\n",
    "    def quarantine(self, n):\n",
    "        g = self.network()\n",
    "        rng = np.random.default_rng()\n",
    "        ms = list(g.neighbors(n))\n",
    "        for m in ms:\n",
    "            if self.getCompartment(m) == self.SUSCEPTIBLE and rng.random() <= self._pRewire:\n",
    "                # a susceptible neighbour, remove link to us\n",
    "                self.removeEdge(n, m)\n",
    "\n",
    "                # rewire to another random susceptible\n",
    "                mprime = self.locus(self.SUSCEPTIBLE).draw()\n",
    "                self.addEdge(m, mprime)\n",
    "\n",
    "    def symptoms(self, t, n):\n",
    "        # perform a normal becoming-symptomatic event\n",
    "        super(AdaptiveSEIR, self).symptoms(t, n)\n",
    "\n",
    "        g = self.network()\n",
    "        rng = np.random.default_rng()\n",
    "\n",
    "        # examine all neighbours and look for exposed AND susceptible nodes to quarantine\n",
    "        ms = list(g.neighbors(n))\n",
    "        for m in ms:\n",
    "            m_compartment = self.getCompartment(m)\n",
    "            if (m_compartment == self.EXPOSED or m_compartment == self.SUSCEPTIBLE) and rng.random() <= self._pDetect: # Note: this line has been modified to implement a preemptive quarantine strategy. \n",
    "                self.quarantine(m)\n",
    "\n",
    "        # quarantine the newly symptomatic node\n",
    "        self.quarantine(n)\n",
    "    # END Copied Code\n",
    "    def atEquilibrium(self, t):\n",
    "        return len(self.compartment(self.INFECTED)) == 0 and len(self.compartment(self.EXPOSED)) == 0\n",
    "\n",
    "    "
   ]
  },
  {
   "cell_type": "markdown",
   "source": [
    "### Create epyc experiments and run simulations"
   ],
   "metadata": {
    "collapsed": false
   }
  },
  {
   "cell_type": "code",
   "execution_count": 34,
   "metadata": {},
   "outputs": [],
   "source": [
    "def ex_1_seir(lab):\n",
    "    # set the disease parameter space\n",
    "    lab[AdaptiveSEIR.P_EXPOSED] = p_exposed\n",
    "    lab[AdaptiveSEIR.P_INFECT_ASYMPTOMATIC] = p_infect\n",
    "    lab[AdaptiveSEIR.P_INFECT_SYMPTOMATIC] = p_infect\n",
    "    lab[AdaptiveSEIR.P_REMOVE] = p_remove\n",
    "        \n",
    "    lab[AdaptiveSEIR.P_REWIRE] = p_rewire\n",
    "    lab[AdaptiveSEIR.P_DETECT] = p_detect\n",
    "\n",
    "    lab['ens'] = range(ens)\n",
    "\n",
    "    # set the topology for the generated network\n",
    "    lab[ERNetwork.N] = n\n",
    "    lab[ERNetwork.KMEAN] = k_mean\n",
    "\n",
    "    # create the model, network generator, and experiment\n",
    "    p = AdaptiveSEIR()\n",
    "    g = ERNetwork()\n",
    "    e = epydemic.StochasticDynamics(p, g)\n",
    "\n",
    "    # run the experiment\n",
    "    lab.runExperiment(e)"
   ]
  },
  {
   "cell_type": "code",
   "execution_count": null,
   "metadata": {},
   "outputs": [],
   "source": [
    "# Partition the controlled variables.\n",
    "pds = np.split(p_detect, 100)"
   ]
  },
  {
   "cell_type": "code",
   "execution_count": 35,
   "metadata": {},
   "outputs": [],
   "source": [
    "lab = ParallelLab(JSONLabNotebook(get_out_path(\"ex_1_seir\"), create=True), cores)"
   ]
  },
  {
   "cell_type": "code",
   "execution_count": 36,
   "metadata": {},
   "outputs": [
    {
     "name": "stderr",
     "output_type": "stream",
     "text": [
      "/home/hf39/Documents/CS5199/.venv/lib64/python3.9/site-packages/networkx/utils/backends.py:135: RuntimeWarning: networkx backend defined more than once: nx-loopback\n",
      "  backends.update(_get_backends(\"networkx.backends\"))\n"
     ]
    },
    {
     "ename": "KeyboardInterrupt",
     "evalue": "",
     "output_type": "error",
     "traceback": [
      "\u001B[0;31m---------------------------------------------------------------------------\u001B[0m",
      "\u001B[0;31mKeyboardInterrupt\u001B[0m                         Traceback (most recent call last)",
      "Cell \u001B[0;32mIn[36], line 5\u001B[0m\n\u001B[1;32m      3\u001B[0m p_detect \u001B[38;5;241m=\u001B[39m pd\n\u001B[1;32m      4\u001B[0m lab\u001B[38;5;241m.\u001B[39mcreateWith(\u001B[38;5;124m\"\u001B[39m\u001B[38;5;124mexperiment_\u001B[39m\u001B[38;5;124m\"\u001B[39m \u001B[38;5;241m+\u001B[39m \u001B[38;5;28mstr\u001B[39m(i)\u001B[38;5;241m+\u001B[39m \u001B[38;5;124m\"\u001B[39m\u001B[38;5;124m.1\u001B[39m\u001B[38;5;124m\"\u001B[39m, ex_1_seir)\n\u001B[0;32m----> 5\u001B[0m \u001B[43mlab\u001B[49m\u001B[38;5;241;43m.\u001B[39;49m\u001B[43mcreateWith\u001B[49m\u001B[43m(\u001B[49m\u001B[38;5;124;43m\"\u001B[39;49m\u001B[38;5;124;43mexperiment_\u001B[39;49m\u001B[38;5;124;43m\"\u001B[39;49m\u001B[43m \u001B[49m\u001B[38;5;241;43m+\u001B[39;49m\u001B[43m \u001B[49m\u001B[38;5;28;43mstr\u001B[39;49m\u001B[43m(\u001B[49m\u001B[43mi\u001B[49m\u001B[43m)\u001B[49m\u001B[43m \u001B[49m\u001B[38;5;241;43m+\u001B[39;49m\u001B[43m \u001B[49m\u001B[38;5;124;43m\"\u001B[39;49m\u001B[38;5;124;43m.2\u001B[39;49m\u001B[38;5;124;43m\"\u001B[39;49m\u001B[43m,\u001B[49m\u001B[43m \u001B[49m\u001B[43mex_1_seir\u001B[49m\u001B[43m)\u001B[49m\n\u001B[1;32m      6\u001B[0m lab \u001B[38;5;241m=\u001B[39m ParallelLab(JSONLabNotebook(get_out_path(\u001B[38;5;124m\"\u001B[39m\u001B[38;5;124mex_1_seir\u001B[39m\u001B[38;5;124m\"\u001B[39m), create\u001B[38;5;241m=\u001B[39m\u001B[38;5;28;01mFalse\u001B[39;00m), cores)\n",
      "File \u001B[0;32m~/Documents/CS5199/.venv/lib64/python3.9/site-packages/epyc/lab.py:267\u001B[0m, in \u001B[0;36mLab.createWith\u001B[0;34m(self, tag, f, description, propagate, delete, finish, deleteAllParameters)\u001B[0m\n\u001B[1;32m    264\u001B[0m     \u001B[38;5;28mself\u001B[39m\u001B[38;5;241m.\u001B[39mdeleteAllParameters()\n\u001B[1;32m    266\u001B[0m \u001B[38;5;66;03m# call the creation function\u001B[39;00m\n\u001B[0;32m--> 267\u001B[0m \u001B[43mf\u001B[49m\u001B[43m(\u001B[49m\u001B[38;5;28;43mself\u001B[39;49m\u001B[43m)\u001B[49m\n\u001B[1;32m    269\u001B[0m \u001B[38;5;66;03m# lock the result set if requested\u001B[39;00m\n\u001B[1;32m    270\u001B[0m \u001B[38;5;28;01mif\u001B[39;00m finish:\n",
      "Cell \u001B[0;32mIn[34], line 23\u001B[0m, in \u001B[0;36mex_1_seir\u001B[0;34m(lab)\u001B[0m\n\u001B[1;32m     20\u001B[0m e \u001B[38;5;241m=\u001B[39m epydemic\u001B[38;5;241m.\u001B[39mStochasticDynamics(p, g)\n\u001B[1;32m     22\u001B[0m \u001B[38;5;66;03m# run the experiment\u001B[39;00m\n\u001B[0;32m---> 23\u001B[0m \u001B[43mlab\u001B[49m\u001B[38;5;241;43m.\u001B[39;49m\u001B[43mrunExperiment\u001B[49m\u001B[43m(\u001B[49m\u001B[43me\u001B[49m\u001B[43m)\u001B[49m\n",
      "File \u001B[0;32m~/Documents/CS5199/.venv/lib64/python3.9/site-packages/epyc/parallellab.py:108\u001B[0m, in \u001B[0;36mParallelLab.runExperiment\u001B[0;34m(self, e)\u001B[0m\n\u001B[1;32m    105\u001B[0m \u001B[38;5;28;01mtry\u001B[39;00m:\n\u001B[1;32m    106\u001B[0m     \u001B[38;5;28;01mwith\u001B[39;00m Parallel(n_jobs\u001B[38;5;241m=\u001B[39m\u001B[38;5;28mself\u001B[39m\u001B[38;5;241m.\u001B[39mnumberOfCores()) \u001B[38;5;28;01mas\u001B[39;00m processes:\n\u001B[1;32m    107\u001B[0m         \u001B[38;5;66;03m# run over the chunk\u001B[39;00m\n\u001B[0;32m--> 108\u001B[0m         rcs \u001B[38;5;241m=\u001B[39m \u001B[43mprocesses\u001B[49m\u001B[43m(\u001B[49m\u001B[43mdelayed\u001B[49m\u001B[43m(\u001B[49m\u001B[38;5;28;43;01mlambda\u001B[39;49;00m\u001B[43m \u001B[49m\u001B[43mep\u001B[49m\u001B[43m:\u001B[49m\u001B[43m \u001B[49m\u001B[43mep\u001B[49m\u001B[43m[\u001B[49m\u001B[38;5;241;43m0\u001B[39;49m\u001B[43m]\u001B[49m\u001B[38;5;241;43m.\u001B[39;49m\u001B[43mset\u001B[49m\u001B[43m(\u001B[49m\u001B[43mep\u001B[49m\u001B[43m[\u001B[49m\u001B[38;5;241;43m1\u001B[39;49m\u001B[43m]\u001B[49m\u001B[43m)\u001B[49m\u001B[38;5;241;43m.\u001B[39;49m\u001B[43mrun\u001B[49m\u001B[43m(\u001B[49m\u001B[43m)\u001B[49m\u001B[43m)\u001B[49m\u001B[43m(\u001B[49m\u001B[43mep\u001B[49m\u001B[43m)\u001B[49m\u001B[43m \u001B[49m\u001B[38;5;28;43;01mfor\u001B[39;49;00m\u001B[43m \u001B[49m\u001B[43mep\u001B[49m\u001B[43m \u001B[49m\u001B[38;5;129;43;01min\u001B[39;49;00m\u001B[43m \u001B[49m\u001B[43meps\u001B[49m\u001B[43m)\u001B[49m\n\u001B[1;32m    110\u001B[0m         \u001B[38;5;66;03m# add the results as they come back\u001B[39;00m\n\u001B[1;32m    111\u001B[0m         \u001B[38;5;28;01mfor\u001B[39;00m rc \u001B[38;5;129;01min\u001B[39;00m rcs:\n",
      "File \u001B[0;32m~/Documents/CS5199/.venv/lib64/python3.9/site-packages/joblib/parallel.py:1952\u001B[0m, in \u001B[0;36mParallel.__call__\u001B[0;34m(self, iterable)\u001B[0m\n\u001B[1;32m   1946\u001B[0m \u001B[38;5;66;03m# The first item from the output is blank, but it makes the interpreter\u001B[39;00m\n\u001B[1;32m   1947\u001B[0m \u001B[38;5;66;03m# progress until it enters the Try/Except block of the generator and\u001B[39;00m\n\u001B[1;32m   1948\u001B[0m \u001B[38;5;66;03m# reach the first `yield` statement. This starts the aynchronous\u001B[39;00m\n\u001B[1;32m   1949\u001B[0m \u001B[38;5;66;03m# dispatch of the tasks to the workers.\u001B[39;00m\n\u001B[1;32m   1950\u001B[0m \u001B[38;5;28mnext\u001B[39m(output)\n\u001B[0;32m-> 1952\u001B[0m \u001B[38;5;28;01mreturn\u001B[39;00m output \u001B[38;5;28;01mif\u001B[39;00m \u001B[38;5;28mself\u001B[39m\u001B[38;5;241m.\u001B[39mreturn_generator \u001B[38;5;28;01melse\u001B[39;00m \u001B[38;5;28;43mlist\u001B[39;49m\u001B[43m(\u001B[49m\u001B[43moutput\u001B[49m\u001B[43m)\u001B[49m\n",
      "File \u001B[0;32m~/Documents/CS5199/.venv/lib64/python3.9/site-packages/joblib/parallel.py:1595\u001B[0m, in \u001B[0;36mParallel._get_outputs\u001B[0;34m(self, iterator, pre_dispatch)\u001B[0m\n\u001B[1;32m   1592\u001B[0m     \u001B[38;5;28;01myield\u001B[39;00m\n\u001B[1;32m   1594\u001B[0m     \u001B[38;5;28;01mwith\u001B[39;00m \u001B[38;5;28mself\u001B[39m\u001B[38;5;241m.\u001B[39m_backend\u001B[38;5;241m.\u001B[39mretrieval_context():\n\u001B[0;32m-> 1595\u001B[0m         \u001B[38;5;28;01myield from\u001B[39;00m \u001B[38;5;28mself\u001B[39m\u001B[38;5;241m.\u001B[39m_retrieve()\n\u001B[1;32m   1597\u001B[0m \u001B[38;5;28;01mexcept\u001B[39;00m \u001B[38;5;167;01mGeneratorExit\u001B[39;00m:\n\u001B[1;32m   1598\u001B[0m     \u001B[38;5;66;03m# The generator has been garbage collected before being fully\u001B[39;00m\n\u001B[1;32m   1599\u001B[0m     \u001B[38;5;66;03m# consumed. This aborts the remaining tasks if possible and warn\u001B[39;00m\n\u001B[1;32m   1600\u001B[0m     \u001B[38;5;66;03m# the user if necessary.\u001B[39;00m\n\u001B[1;32m   1601\u001B[0m     \u001B[38;5;28mself\u001B[39m\u001B[38;5;241m.\u001B[39m_exception \u001B[38;5;241m=\u001B[39m \u001B[38;5;28;01mTrue\u001B[39;00m\n",
      "File \u001B[0;32m~/Documents/CS5199/.venv/lib64/python3.9/site-packages/joblib/parallel.py:1707\u001B[0m, in \u001B[0;36mParallel._retrieve\u001B[0;34m(self)\u001B[0m\n\u001B[1;32m   1702\u001B[0m \u001B[38;5;66;03m# If the next job is not ready for retrieval yet, we just wait for\u001B[39;00m\n\u001B[1;32m   1703\u001B[0m \u001B[38;5;66;03m# async callbacks to progress.\u001B[39;00m\n\u001B[1;32m   1704\u001B[0m \u001B[38;5;28;01mif\u001B[39;00m ((\u001B[38;5;28mlen\u001B[39m(\u001B[38;5;28mself\u001B[39m\u001B[38;5;241m.\u001B[39m_jobs) \u001B[38;5;241m==\u001B[39m \u001B[38;5;241m0\u001B[39m) \u001B[38;5;129;01mor\u001B[39;00m\n\u001B[1;32m   1705\u001B[0m     (\u001B[38;5;28mself\u001B[39m\u001B[38;5;241m.\u001B[39m_jobs[\u001B[38;5;241m0\u001B[39m]\u001B[38;5;241m.\u001B[39mget_status(\n\u001B[1;32m   1706\u001B[0m         timeout\u001B[38;5;241m=\u001B[39m\u001B[38;5;28mself\u001B[39m\u001B[38;5;241m.\u001B[39mtimeout) \u001B[38;5;241m==\u001B[39m TASK_PENDING)):\n\u001B[0;32m-> 1707\u001B[0m     \u001B[43mtime\u001B[49m\u001B[38;5;241;43m.\u001B[39;49m\u001B[43msleep\u001B[49m\u001B[43m(\u001B[49m\u001B[38;5;241;43m0.01\u001B[39;49m\u001B[43m)\u001B[49m\n\u001B[1;32m   1708\u001B[0m     \u001B[38;5;28;01mcontinue\u001B[39;00m\n\u001B[1;32m   1710\u001B[0m \u001B[38;5;66;03m# We need to be careful: the job list can be filling up as\u001B[39;00m\n\u001B[1;32m   1711\u001B[0m \u001B[38;5;66;03m# we empty it and Python list are not thread-safe by\u001B[39;00m\n\u001B[1;32m   1712\u001B[0m \u001B[38;5;66;03m# default hence the use of the lock\u001B[39;00m\n",
      "\u001B[0;31mKeyboardInterrupt\u001B[0m: "
     ]
    }
   ],
   "source": [
    "for i, pd in enumerate(pds):\n",
    "    p_detect = pd\n",
    "    lab.createWith(\"ex_\" + str(i), ex_1_seir)"
   ]
  }
 ],
 "metadata": {
  "kernelspec": {
   "display_name": "venv",
   "language": "python",
   "name": "python3"
  },
  "language_info": {
   "codemirror_mode": {
    "name": "ipython",
    "version": 3
   },
   "file_extension": ".py",
   "mimetype": "text/x-python",
   "name": "python",
   "nbconvert_exporter": "python",
   "pygments_lexer": "ipython3",
   "version": "3.9.18"
  }
 },
 "nbformat": 4,
 "nbformat_minor": 2
}
