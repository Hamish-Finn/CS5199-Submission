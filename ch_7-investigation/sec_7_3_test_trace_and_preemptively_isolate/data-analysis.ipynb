{
 "cells": [
  {
   "cell_type": "code",
   "execution_count": null,
   "id": "initial_id",
   "metadata": {
    "collapsed": true
   },
   "outputs": [],
   "source": [
    "from epyc import JSONLabNotebook\n",
    "import epyc\n",
    "import epydemic\n",
    "import numpy as np\n",
    "import pandas as pd\n",
    "from epydemic import SEIR, SIR, ERNetwork, Monitor, ProcessSequence\n",
    "import matplotlib.pyplot as plt\n",
    "from parameters import *"
   ]
  },
  {
   "cell_type": "code",
   "execution_count": null,
   "outputs": [],
   "source": [
    "json_lab = JSONLabNotebook(get_out_path(\"ex_2_seir\"), create=False)\n",
    "dfs = [json_lab.dataframe(tag=rs) for rs in json_lab.resultSets()]\n",
    "df_1 = pd.concat(dfs)"
   ],
   "metadata": {
    "collapsed": false
   },
   "id": "e9b253e0cd08260d"
  },
  {
   "cell_type": "code",
   "execution_count": null,
   "outputs": [],
   "source": [
    "json_lab_2 = JSONLabNotebook(\"../sec_7_1_test_trace_and_isolate/datasets/ex_3_seir.json\", create=False)\n",
    "json_lab_3 = JSONLabNotebook(\"../sec_7_1_test_trace_and_isolate/datasets/ex_4_seir.json\", create=False)"
   ],
   "metadata": {
    "collapsed": false
   },
   "id": "126ff27d960b4cdd"
  },
  {
   "cell_type": "code",
   "execution_count": null,
   "outputs": [],
   "source": [
    "dfs_1 = [json_lab_2.dataframe(tag=rs) for rs in json_lab_2.resultSets()]\n",
    "dfs_2 = [json_lab_3.dataframe(tag=rs) for rs in json_lab_3.resultSets()]\n",
    "dfs = dfs_1 + dfs_2\n",
    "df_2 = pd.concat(dfs)"
   ],
   "metadata": {
    "collapsed": false
   },
   "id": "f98b5c10eca329bd"
  },
  {
   "cell_type": "code",
   "execution_count": null,
   "outputs": [],
   "source": [
    "# Data Analysis"
   ],
   "metadata": {
    "collapsed": false
   },
   "id": "d6325749c795239a"
  },
  {
   "cell_type": "code",
   "execution_count": null,
   "outputs": [],
   "source": [
    "# Number of Significant Outbreaks\n",
    "print(\"Significant Outbreaks TTPI\", len(df_1[df_1[SEIR.REMOVED] / n > 0.75]) / len(df_1))\n",
    "\n",
    "\n",
    "print(\"Significant Outbreaks TTI\", len(df_2[df_2[SEIR.REMOVED] / n > 0.75]) / len(df_2))"
   ],
   "metadata": {
    "collapsed": false
   },
   "id": "c97a1edc4d3ca6b6"
  }
 ],
 "metadata": {
  "kernelspec": {
   "display_name": "Python 3",
   "language": "python",
   "name": "python3"
  },
  "language_info": {
   "codemirror_mode": {
    "name": "ipython",
    "version": 2
   },
   "file_extension": ".py",
   "mimetype": "text/x-python",
   "name": "python",
   "nbconvert_exporter": "python",
   "pygments_lexer": "ipython2",
   "version": "2.7.6"
  }
 },
 "nbformat": 4,
 "nbformat_minor": 5
}
