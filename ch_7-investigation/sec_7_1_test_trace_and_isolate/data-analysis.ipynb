{
 "cells": [
  {
   "cell_type": "code",
   "execution_count": 13,
   "metadata": {},
   "outputs": [],
   "source": [
    "from epyc import JSONLabNotebook\n",
    "import epydemic\n",
    "import numpy as np\n",
    "import pandas as pd\n",
    "from epydemic import SEIR, Monitor\n",
    "import string\n",
    "from parameters import *"
   ]
  },
  {
   "cell_type": "code",
   "execution_count": 14,
   "metadata": {},
   "outputs": [],
   "source": [
    "json_lab_1 = JSONLabNotebook(get_out_path(\"ex_1_seir\"), create=False)"
   ]
  },
  {
   "cell_type": "code",
   "execution_count": 15,
   "metadata": {},
   "outputs": [],
   "source": [
    "json_lab_2 = JSONLabNotebook(get_out_path(\"ex_2_seir\"), create=False)"
   ]
  },
  {
   "cell_type": "code",
   "execution_count": 16,
   "metadata": {},
   "outputs": [],
   "source": [
    "dfs_1 = [json_lab_1.dataframe(tag=rs) for rs in json_lab_1.resultSets()]\n",
    "dfs_2 = [json_lab_2.dataframe(tag=rs) for rs in json_lab_2.resultSets()]\n",
    "dfs = dfs_1 + dfs_2\n",
    "df = pd.concat(dfs)\n",
    "\n",
    "er_sss_SEIR_1 = np.array(df[Monitor.timeSeriesForLocus(epydemic.SEIR.REMOVED)].values)\n",
    "\n",
    "df[\"R-Timeout\"] = np.array([s[1] for s in er_sss_SEIR_1]) / n\n",
    "df[\"R-Equilibrium\"] = df[SEIR.REMOVED] / n\n",
    "\n",
    "# Dataframe of simulations which R compartment size changed when ran to equilibrium\n",
    "df_eq = df[df[\"R-Timeout\"] != df[\"R-Equilibrium\"]]"
   ]
  },
  {
   "cell_type": "markdown",
   "metadata": {},
   "source": [
    "# Data Analysis"
   ]
  },
  {
   "cell_type": "code",
   "execution_count": 17,
   "metadata": {
    "collapsed": false
   },
   "outputs": [
    {
     "name": "stdout",
     "output_type": "stream",
     "text": [
      "37.05\n",
      "95.8974358974359\n"
     ]
    }
   ],
   "source": [
    "#  Calculate how many simulations were underdevloped at the defualt timeout\n",
    "print((len(df_eq)/ len(df)) * 100)\n",
    "\n",
    "# Calclulate how many underdeveloped simulations progressed into large scale outbreaks, infecting over 98% of the population\n",
    "print((len(df_eq[df_eq[\"R-Equilibrium\"] > 0.98])/ len(df_eq)) * 100)"
   ]
  }
 ],
 "metadata": {
  "kernelspec": {
   "display_name": "venv",
   "language": "python",
   "name": "python3"
  },
  "language_info": {
   "codemirror_mode": {
    "name": "ipython",
    "version": 3
   },
   "file_extension": ".py",
   "mimetype": "text/x-python",
   "name": "python",
   "nbconvert_exporter": "python",
   "pygments_lexer": "ipython3",
   "version": "3.9.18"
  }
 },
 "nbformat": 4,
 "nbformat_minor": 2
}
