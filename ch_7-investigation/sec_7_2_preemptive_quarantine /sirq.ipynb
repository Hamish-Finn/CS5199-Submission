{
 "cells": [
  {
   "cell_type": "markdown",
   "metadata": {},
   "source": [
    "Recreating SIR+Q Model Presented by Rizi A, Keating L, Gleeson J et al in their study 'The Unreasonable Effectiveness of Contact Tracing on Networks with' Cliques' in Epydemic\n",
    "\n",
    "Link to paper: https://arxiv.org/abs/2304.10405v2\n",
    "\n",
    "Link to repo: https://github.com/k-rizi/Contact-Tracing-On-Clique-Networks\n"
   ]
  },
  {
   "cell_type": "code",
   "execution_count": null,
   "metadata": {},
   "outputs": [],
   "source": [
    "from epyc import JSONLabNotebook, ParallelLab\n",
    "import epyc\n",
    "import networkx as nx\n",
    "import random, itertools\n",
    "from random import shuffle\n",
    "import epydemic\n",
    "import numpy as np\n",
    "from epydemic import SIR, Monitor, ProcessSequence, rng, ERNetwork, SEIR, SIR_FixedRecovery, FixedNetwork\n",
    "import matplotlib.pyplot as plt\n",
    "from parameters import *"
   ]
  },
  {
   "cell_type": "code",
   "execution_count": null,
   "metadata": {},
   "outputs": [],
   "source": [
    "create_data_output_directory()"
   ]
  },
  {
   "cell_type": "markdown",
   "source": [
    "### Quarantine First then Infect SIR+Q Model"
   ],
   "metadata": {
    "collapsed": false
   }
  },
  {
   "cell_type": "code",
   "execution_count": null,
   "metadata": {},
   "outputs": [],
   "source": [
    "class SIRQ(SIR):\n",
    "    P_DETECT = 'pDetect'\n",
    "\n",
    "    QUARANTINE = 'epydemic.sir.Q'\n",
    "    \n",
    "    INFECTION_TIME = 'infectionTime'  \n",
    "\n",
    "    def __init__(self):\n",
    "        super().__init__()\n",
    "\n",
    "    def build(self, params):\n",
    "        pI = params[self.P_INFECT]\n",
    "        pD = params[self.P_DETECT]\n",
    "        pR = params[self.P_REMOVE]\n",
    "        \n",
    "        # Set Population so all node are initially within the S compartment. The function initialCompartments will then infect a single random node before the simulation begins. \n",
    "        self.addCompartment(self.SUSCEPTIBLE, 1)\n",
    "        self.addCompartment(self.INFECTED, 0)\n",
    "        self.addCompartment(self.REMOVED, 0.0)\n",
    "        self.addCompartment(self.QUARANTINE, 0.0)\n",
    "\n",
    "        self.trackNodesInCompartment(self.INFECTED)\n",
    "        self.trackEdgesBetweenCompartments(self.SUSCEPTIBLE, self.INFECTED, name=self.SI)\n",
    "\n",
    "        # Attach Quarantine event to SI loci\n",
    "        self.addEventPerElement(self.SI, pD, self.quarantine, name=self.QUARANTINE)\n",
    "        \n",
    "        # The Infection Event Follows the Quarantine Event\n",
    "        self.addEventPerElement(self.SI, pI, self.infect, name=self.INFECTED)\n",
    "        \n",
    "        # Finally the Infected Node is Removed\n",
    "        self.addEventPerElement(self.INFECTED, pR, self.remove, name=self.REMOVED)\n",
    "        \n",
    "\n",
    "    def atEquilibrium(self, t):\n",
    "        return len(self.compartment(self.INFECTED)) == 0\n",
    "\n",
    "    def quarantine(self, t ,e):\n",
    "        (n, _ ) = e\n",
    "        self.changeCompartment(n, self.QUARANTINE)\n",
    "\n",
    "    def initialCompartments(self):\n",
    "        g = self.network()\n",
    "        ns = set(g.nodes())\n",
    "        N = len(ns)\n",
    "\n",
    "        n = rng.integers(N)\n",
    "        self.changeCompartment(n, self.INFECTED)\n",
    "        g.nodes[n][self.INFECTION_TIME] = 0.0\n",
    "\n",
    "        # mark all other nodes as susceptible\n",
    "        ns.remove(n)\n",
    "        for n in ns:\n",
    "            self.changeInitialCompartment(n, self.SUSCEPTIBLE)"
   ]
  },
  {
   "cell_type": "markdown",
   "source": [
    "### Quarantine Infection First then Quarantine SIR+Q Model"
   ],
   "metadata": {
    "collapsed": false
   }
  },
  {
   "cell_type": "code",
   "execution_count": null,
   "metadata": {},
   "outputs": [],
   "source": [
    "class SIRQ_Infection_First(SIR):\n",
    "    P_DETECT = 'pDetect'\n",
    "\n",
    "    QUARANTINE = 'epydemic.sir.Q'\n",
    "    \n",
    "    INFECTION_TIME = 'infectionTime'  \n",
    "\n",
    "    def __init__(self):\n",
    "        super().__init__()\n",
    "\n",
    "    def build(self, params):\n",
    "        pI = params[self.P_INFECT]\n",
    "        pD = params[self.P_DETECT]\n",
    "        pR = params[self.P_REMOVE]\n",
    "\n",
    "        self.addCompartment(self.SUSCEPTIBLE, 1)\n",
    "        self.addCompartment(self.INFECTED, 0)\n",
    "        self.addCompartment(self.REMOVED, 0.0)\n",
    "        self.addCompartment(self.QUARANTINE, 0.0)\n",
    "\n",
    "        self.trackNodesInCompartment(self.INFECTED)\n",
    "        self.trackEdgesBetweenCompartments(self.SUSCEPTIBLE, self.INFECTED, name=self.SI)\n",
    "\n",
    "        # Trigger the infection event first\n",
    "        self.addEventPerElement(self.SI, pI, self.infect, name=self.INFECTED)\n",
    "        \n",
    "        # After infection, fire the quarantine event.\n",
    "        self.addEventPerElement(self.SI, pD, self.quarantine, name=self.QUARANTINE)\n",
    "        \n",
    "        self.addEventPerElement(self.INFECTED, pR, self.remove, name=self.REMOVED)\n",
    "        \n",
    "\n",
    "    def atEquilibrium(self, t):\n",
    "        return len(self.compartment(self.INFECTED)) == 0\n",
    "\n",
    "    def quarantine(self, t ,e):\n",
    "        (n, _ ) = e\n",
    "        self.changeCompartment(n, self.QUARANTINE)\n",
    "\n",
    "    def initialCompartments(self):\n",
    "        g = self.network()\n",
    "        ns = set(g.nodes())\n",
    "        N = len(ns)\n",
    "\n",
    "        n = rng.integers(N)\n",
    "        self.changeCompartment(n, self.INFECTED)\n",
    "        g.nodes[n][self.INFECTION_TIME] = 0.0\n",
    "\n",
    "        # mark all other nodes as susceptible\n",
    "        ns.remove(n)\n",
    "        for n in ns:\n",
    "            self.changeInitialCompartment(n, self.SUSCEPTIBLE)"
   ]
  },
  {
   "cell_type": "markdown",
   "source": [
    "### Create a subclass of the SynchronousDynamics class to randomise the order of events in each timestep. "
   ],
   "metadata": {
    "collapsed": false
   }
  },
  {
   "cell_type": "code",
   "execution_count": null,
   "outputs": [],
   "source": [
    "class SynchronousDynamics_RandomOrder(epydemic.SynchronousDynamics):\n",
    "    def __init__(self, p, g):\n",
    "        super().__init__(p, g)\n",
    "\n",
    "    def allEventsInTimestep(self, t):\n",
    "        res = super().allEventsInTimestep(t)\n",
    "        shuffle(res)\n",
    "        return res"
   ],
   "metadata": {
    "collapsed": false
   }
  },
  {
   "cell_type": "markdown",
   "source": [
    "### Build epyc experiements to define the parameter space and run simulations"
   ],
   "metadata": {
    "collapsed": false
   }
  },
  {
   "cell_type": "code",
   "execution_count": null,
   "metadata": {},
   "outputs": [],
   "source": [
    "def ex_1_sirq(lab):\n",
    "    lab[SIRQ.P_INFECT] = p_infect\n",
    "    lab[SIRQ.P_DETECT] = p_detects\n",
    "    lab[SIRQ.P_REMOVE] = p_remove\n",
    "\n",
    "    # set the topology for the generated network\n",
    "    lab[ERNetwork.N] = n\n",
    "    lab[ERNetwork.KMEAN] = k_mean\n",
    "\n",
    "    lab['ens'] = range(ens)\n",
    "\n",
    "    # create the model, network generator, and experiment\n",
    "    p = SIRQ()\n",
    "    g = ERNetwork()\n",
    "    e = epydemic.SynchronousDynamics(p, g)\n",
    "\n",
    "    # run the experiment\n",
    "    lab.runExperiment(e)"
   ]
  },
  {
   "cell_type": "code",
   "execution_count": null,
   "metadata": {},
   "outputs": [],
   "source": [
    "def ex_2_sirq_IQ(lab):\n",
    "    lab[SIRQ_Infection_First.P_INFECT] = p_infect\n",
    "    lab[SIRQ_Infection_First.P_DETECT] = p_detects\n",
    "    lab[SIRQ_Infection_First.P_REMOVE] = p_remove\n",
    "\n",
    "    # set the topology for the generated network\n",
    "    lab[ERNetwork.N] = n\n",
    "    lab[ERNetwork.KMEAN] = k_mean\n",
    "\n",
    "    lab['ens'] = range(ens)\n",
    "\n",
    "    # create the model, network generator, and experiment\n",
    "    p = SIRQ_Infection_First()\n",
    "    g = ERNetwork()\n",
    "    e = epydemic.SynchronousDynamics(p, g)\n",
    "\n",
    "    # run the experiment\n",
    "    lab.runExperiment(e)"
   ]
  },
  {
   "cell_type": "code",
   "execution_count": null,
   "outputs": [],
   "source": [
    "def ex_3_sirq_STO(lab):\n",
    "    lab[SIRQ.P_INFECT] = p_infect\n",
    "    lab[SIRQ.P_DETECT] = p_detects\n",
    "    lab[SIRQ.P_REMOVE] = p_remove\n",
    "\n",
    "    # set the topology for the generated network\n",
    "    lab[ERNetwork.N] = n\n",
    "    lab[ERNetwork.KMEAN] = k_mean\n",
    "\n",
    "    lab['ens'] = range(ens)\n",
    "\n",
    "    # create the model, network generator, and experiment\n",
    "    p = SIRQ()\n",
    "    g = ERNetwork()\n",
    "    e = epydemic.StochasticDynamics(p, g)\n",
    "\n",
    "    # run the experiment\n",
    "    lab.runExperiment(e)"
   ],
   "metadata": {
    "collapsed": false
   }
  },
  {
   "cell_type": "code",
   "execution_count": null,
   "outputs": [],
   "source": [
    "def ex_4_sirq_RDM(lab):\n",
    "    lab[SIRQ.P_INFECT] = p_infect\n",
    "    lab[SIRQ.P_DETECT] = p_detects\n",
    "    lab[SIRQ.P_REMOVE] = p_remove\n",
    "\n",
    "    # set the topology for the generated network\n",
    "    lab[ERNetwork.N] = n\n",
    "    lab[ERNetwork.KMEAN] = k_mean\n",
    "\n",
    "    lab['ens'] = range(ens)\n",
    "\n",
    "    # create the model, network generator, and experiment\n",
    "    p = SIRQ()\n",
    "    g = ERNetwork()\n",
    "    e = SynchronousDynamics_RandomOrder(p, g)\n",
    "\n",
    "    # run the experiment\n",
    "    lab.runExperiment(e)"
   ],
   "metadata": {
    "collapsed": false
   }
  },
  {
   "cell_type": "code",
   "execution_count": null,
   "metadata": {},
   "outputs": [],
   "source": [
    "lab = ParallelLab(JSONLabNotebook(get_out_path('ex_1_sirq_QI'), create=True), cores)\n",
    "lab.createWith(\"ex_1_sirq_QI\", ex_1_sirq)"
   ]
  },
  {
   "cell_type": "code",
   "execution_count": null,
   "metadata": {},
   "outputs": [],
   "source": [
    "lab = ParallelLab(JSONLabNotebook(get_out_path('ex_2_sirq_IQ'), create=True), cores)\n",
    "lab.createWith(\"ex_2_sirq_IQ\", ex_2_sirq_IQ)"
   ]
  },
  {
   "cell_type": "code",
   "execution_count": null,
   "metadata": {},
   "outputs": [],
   "source": [
    "lab = ParallelLab(JSONLabNotebook(get_out_path('ex_3_sirq_STO'), create=True), cores)\n",
    "lab.createWith(\"ex_3_sirq_STO\", ex_3_sirq_STO)"
   ]
  },
  {
   "cell_type": "code",
   "execution_count": null,
   "metadata": {},
   "outputs": [],
   "source": [
    "lab = ParallelLab(JSONLabNotebook(get_out_path('ex_4_sirq_RDM'), create=True), cores)\n",
    "lab.createWith(\"ex_4_sirq_RDM\", ex_4_sirq_RDM)"
   ]
  }
 ],
 "metadata": {
  "kernelspec": {
   "display_name": "venv",
   "language": "python",
   "name": "python3"
  },
  "language_info": {
   "codemirror_mode": {
    "name": "ipython",
    "version": 3
   },
   "file_extension": ".py",
   "mimetype": "text/x-python",
   "name": "python",
   "nbconvert_exporter": "python",
   "pygments_lexer": "ipython3",
   "version": "3.9.18"
  }
 },
 "nbformat": 4,
 "nbformat_minor": 2
}
