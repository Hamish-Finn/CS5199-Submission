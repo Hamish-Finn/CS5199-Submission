{
 "cells": [
  {
   "cell_type": "code",
   "execution_count": 1,
   "metadata": {
    "ExecuteTime": {
     "end_time": "2023-11-30T12:52:57.054336351Z",
     "start_time": "2023-11-30T12:52:56.991523707Z"
    },
    "execution": {
     "iopub.execute_input": "2023-12-24T18:46:43.320045Z",
     "iopub.status.busy": "2023-12-24T18:46:43.319660Z",
     "iopub.status.idle": "2023-12-24T18:46:44.176443Z",
     "shell.execute_reply": "2023-12-24T18:46:44.175938Z"
    }
   },
   "outputs": [],
   "source": [
    "import numpy as np\n",
    "import networkx as nx\n",
    "import matplotlib as mpl\n",
    "from datetime import datetime\n",
    "import matplotlib.pyplot as plt\n",
    "from itertools import combinations\n",
    "from joblib import Parallel, delayed\n",
    "from networkx.utils import py_random_state\n",
    "import random, time, pickle, multiprocessing, matplotlib, copy, itertools"
   ]
  },
  {
   "cell_type": "markdown",
   "metadata": {},
   "source": [
    "## Bulding the Network"
   ]
  },
  {
   "cell_type": "code",
   "execution_count": 2,
   "metadata": {
    "ExecuteTime": {
     "end_time": "2023-11-30T12:52:57.070834511Z",
     "start_time": "2023-11-30T12:52:57.008886722Z"
    },
    "execution": {
     "iopub.execute_input": "2023-12-24T18:46:44.180045Z",
     "iopub.status.busy": "2023-12-24T18:46:44.179677Z",
     "iopub.status.idle": "2023-12-24T18:46:44.185080Z",
     "shell.execute_reply": "2023-12-24T18:46:44.184668Z"
    }
   },
   "outputs": [],
   "source": [
    "def regular_clique(number_of_nodes, average_degree, clique_size):\n",
    "    N, K, c = number_of_nodes, average_degree, clique_size\n",
    "    if K % (c-1) != 0:\n",
    "        raise Exception('This configuration is not possile')\n",
    "    else:\n",
    "        k = int(K/(c-1))\n",
    "        m = int(N*k/c)\n",
    "        nodes = [(u, _k) for u in range(N) for _k in range(k)]\n",
    "        random.shuffle(nodes)\n",
    "        cliques = [(u, _k) for u in range(m) for _k in range(c)]\n",
    "        l = list(zip(cliques, nodes))\n",
    "        my_list = [j[1][0] for j in l]\n",
    "        node_collections = [my_list[i:i+c] for i in range(0, len(my_list), c)]\n",
    "        g = nx.Graph()\n",
    "        for col in node_collections:\n",
    "            g.add_edges_from(itertools.combinations(col, 2))\n",
    "        g.remove_edges_from(nx.selfloop_edges(g))\n",
    "    return g"
   ]
  },
  {
   "cell_type": "markdown",
   "metadata": {},
   "source": [
    "## Contact Tracing Process"
   ]
  },
  {
   "cell_type": "code",
   "execution_count": 3,
   "metadata": {
    "ExecuteTime": {
     "end_time": "2023-11-30T12:52:57.103897267Z",
     "start_time": "2023-11-30T12:52:57.050752624Z"
    },
    "execution": {
     "iopub.execute_input": "2023-12-24T18:46:44.187468Z",
     "iopub.status.busy": "2023-12-24T18:46:44.187248Z",
     "iopub.status.idle": "2023-12-24T18:46:44.199640Z",
     "shell.execute_reply": "2023-12-24T18:46:44.199249Z"
    }
   },
   "outputs": [],
   "source": [
    "def comp_g(g, compartment_name):\n",
    "    '''\n",
    "        returns nodes in compartment compartment_name\n",
    "    '''\n",
    "    return [node for node in g.nodes() if g.nodes()[node]['type'] == compartment_name]\n",
    "\n",
    "\n",
    "def contact_tracing(G, alpha, p):\n",
    "    '''\n",
    "        returns number of nodes in different compartments S, I, Q, R\n",
    "        after runing the SIR+Q process\n",
    "    '''\n",
    "    N = len(G)\n",
    "    infection_seed = random.randint(0, N-1)\n",
    "    compartments = dict([(infection_seed,{'type':'I'})] + [(node,{'type':'S'}) for node in G.nodes() if node != infection_seed])\n",
    "    nx.set_node_attributes(G, compartments)\n",
    "    \n",
    "    new_seeds = {infection_seed} \n",
    "    while new_seeds:\n",
    "        #check if there is no infection left\n",
    "        t = [quarantine_infection(seed, G, alpha, p) for seed in new_seeds]\n",
    "        new_seeds = {item for sublist in t for item in sublist}\n",
    "    \n",
    "    S, I, R, Q = comp_g(G, 'S'), comp_g(G, 'I'), comp_g(G, 'R'), comp_g(G, 'Q')\n",
    "\n",
    "    return [len(S)/N, len(I)/N, len(R)/N, len(Q)/N, len(R)/N + p* len(Q)/N]\n",
    "\n",
    "\n",
    "def quarantine_infection(infected_node, G, alpha, p):\n",
    "    '''\n",
    "        begins from new ifected nodes, yields new infected nodes\n",
    "        while putting nodes in the right compartment\n",
    "    '''\n",
    "    new_infected_nodes = []\n",
    "    for ne in G[infected_node]:\n",
    "        if G.nodes()[ne]['type'] == 'S':\n",
    "            if random.random() <= alpha:\n",
    "                G.nodes()[ne]['type'] = 'Q'\n",
    "            else:\n",
    "                if random.random() <= p:\n",
    "                    G.nodes()[ne]['type'] = 'I'\n",
    "                    new_infected_nodes.append(ne)\n",
    "    G.nodes()[infected_node]['type'] = 'R'\n",
    "\n",
    "    return new_infected_nodes\n",
    "\n",
    "\n",
    "\n",
    "def contact_tracing2(G, alpha, p):\n",
    "    '''\n",
    "        returns number of nodes in different compartments S, I, Q, R\n",
    "        after runing the SIR+Q process\n",
    "    '''\n",
    "    N = len(G)\n",
    "    infection_seed = random.randint(0, N-1)\n",
    "    compartments = dict([(infection_seed,{'type':'I'})] + [(node,{'type':'S'}) for node in G.nodes() if node != infection_seed])\n",
    "    nx.set_node_attributes(G, compartments)\n",
    "    \n",
    "    new_seeds = {infection_seed} \n",
    "    while new_seeds:\n",
    "        #check if there is no infection left\n",
    "        t = [quarantine_infection2(seed, G, alpha, p) for seed in new_seeds]\n",
    "        new_seeds = {item for sublist in t for item in sublist}\n",
    "    \n",
    "    S, I, R, Qi, Qs = comp_g(G, 'S'), comp_g(G, 'I'), comp_g(G, 'R'), comp_g(G, 'QI'), comp_g(G, 'QS')\n",
    "\n",
    "    return [len(S)/N, len(I)/N, len(R)/N, len(R)/N + p*(len(Qi)+len(Qs))/N, len(R)/N + len(Qi)/N]\n",
    "\n",
    "\n",
    "def quarantine_infection2(infected_node, G, alpha, p):\n",
    "    '''Table of parameters used in limerick experiment \n",
    "        begins from new ifected nodes, yields new infected nodes\n",
    "        while putting nodes in the right compartment\n",
    "    '''\n",
    "    new_infected_nodes = []\n",
    "    for ne in G[infected_node]:\n",
    "        if G.nodes()[ne]['type'] == 'S':\n",
    "            if random.random() <= alpha:\n",
    "                #G.nodes()[ne]['type'] = 'Q'\n",
    "                if random.random()<= p:\n",
    "                    G.nodes()[ne]['type'] = 'QI'\n",
    "                else:\n",
    "                    G.nodes()[ne]['type'] = 'QS'\n",
    "            else:\n",
    "                if random.random() <= p:\n",
    "                    G.nodes()[ne]['type'] = 'I'\n",
    "                    new_infected_nodes.append(ne)\n",
    "    G.nodes()[infected_node]['type'] = 'R'\n",
    "    \n",
    "    return new_infected_nodes\n",
    "   "
   ]
  },
  {
   "cell_type": "markdown",
   "metadata": {},
   "source": [
    "# Adapted\n",
    "- Commented out visualization code \n",
    "- Modified experiment to save all raw data and save to a corresponding '.npy' file"
   ]
  },
  {
   "cell_type": "code",
   "execution_count": 4,
   "metadata": {
    "ExecuteTime": {
     "end_time": "2023-12-08T20:00:58.667566890Z",
     "start_time": "2023-12-08T19:51:23.832726159Z"
    },
    "execution": {
     "iopub.execute_input": "2023-12-24T18:46:44.201973Z",
     "iopub.status.busy": "2023-12-24T18:46:44.201752Z",
     "iopub.status.idle": "2023-12-24T19:02:16.564301Z",
     "shell.execute_reply": "2023-12-24T19:02:16.563357Z"
    }
   },
   "outputs": [],
   "source": [
    "average_degree = 6 \n",
    "c_1_list = [2,3,4]\n",
    "\n",
    "p_range = np.linspace(0.1,0.70, 40)\n",
    "alphas =  [0 , .25, 0.5]\n",
    "\n",
    "ens = 100 \n",
    "N = 10**5 # as stated in paper N is approx 10^5\n",
    "\n",
    "# fig = plt.figure()\n",
    "# gs = fig.add_gridspec(3, hspace=0)\n",
    "# axs = gs.subplots(sharex=True, sharey=True)\n",
    "Gs = [regular_clique(N, average_degree, c) for c in c_1_list]\n",
    "\n",
    "for _al in range(len(alphas)):\n",
    "    \n",
    "    CT = lambda p_range, G, alpha: [contact_tracing(G, alpha, p)[4] for p in p_range]\n",
    "\n",
    "    # Begin Original Code\n",
    "    #  data = [np.mean(np.array(Parallel(n_jobs = max(12, multiprocessing.cpu_count()))(delayed(CT)(p_range, G, alphas[_al]) for en in range(ens))), axis = 0) for G in Gs]\n",
    "    # End Original Code\n",
    "    \n",
    "    # Begin Adapted Code\n",
    "    data = [np.array(Parallel(n_jobs = max(40, multiprocessing.cpu_count()))(delayed(CT)(p_range, G, alphas[_al]) for en in range(ens))) for G in Gs]\n",
    "    # End Adapted Code\n",
    "\n",
    "    np.save(str(N)+'_'+str(alphas[_al])+'_unprocessed_fig3A', data)\n",
    "    \n",
    "#     colors = ['r', 'g', 'b', 'm'] \n",
    "#     axs[_al].plot(p_range, data[0], marker ='*', label = r'$c = 2$', color = colors[0])\n",
    "#     axs[_al].plot(p_range, data[1], marker = 6, label =r'$c = 3$', color = colors[1])\n",
    "#     axs[_al].plot(p_range, data[2], marker= 'h', label = r'$c = 4$', color = colors[2])\n",
    "#     if _al == 2:\n",
    "#         axs[_al].set_yticks([.1, .2, .3])\n",
    "#     else:\n",
    "#         axs[_al].set_yticks([0, .1, .2])\n",
    "#     axs[_al].set_ylim(-0.01, .3)\n",
    "#     axs[_al].set_xlim(0.2, .7)\n",
    "#     axs[_al].set_xlabel(r'$p$', fontsize = 15)\n",
    "\n",
    "# axs[0].legend(fontsize = 15)\n",
    "# fig.suptitle(r'Outbreak Size', fontsize = 15)\n",
    "# plt.savefig(str(N)+'_'+str(alphas)+'_fig3A.pdf')    "
   ]
  },
  {
   "cell_type": "markdown",
   "metadata": {},
   "source": [
    "## Loading from data"
   ]
  },
  {
   "cell_type": "code",
   "execution_count": 5,
   "metadata": {
    "ExecuteTime": {
     "end_time": "2023-11-30T12:57:05.634825320Z",
     "start_time": "2023-11-30T12:57:05.392019726Z"
    },
    "execution": {
     "iopub.execute_input": "2023-12-24T19:02:16.567968Z",
     "iopub.status.busy": "2023-12-24T19:02:16.567731Z",
     "iopub.status.idle": "2023-12-24T19:02:17.492892Z",
     "shell.execute_reply": "2023-12-24T19:02:17.492462Z"
    }
   },
   "outputs": [
    {
     "data": {
      "image/png": "[encoded data removed]",
      "text/plain": [
       "<Figure size 500x500 with 3 Axes>"
      ]
     },
     "metadata": {},
     "output_type": "display_data"
    }
   ],
   "source": [
    "ens = 10**4\n",
    "N = 10**5\n",
    "average_degree = 6 \n",
    "c_1_list = [2,3,4]\n",
    "alphas =  [0   , .25, 0.5]\n",
    "\n",
    "p_ranges = [np.linspace(0.1,0.30, 25), np.linspace(0.2,0.45, 30), np.linspace(0.3,0.7, 40)]\n",
    "\n",
    "fig = plt.figure(figsize=(5, 5))\n",
    "gs = fig.add_gridspec(3, hspace=0)\n",
    "axs = gs.subplots(sharex=True, sharey=True)\n",
    "\n",
    "labels = ['a)', 'b)', 'c)', 'd)']\n",
    "for _al in range(len(alphas)):\n",
    "    axs[_al].text(0.05, 0.95, labels[_al], transform=axs[_al].transAxes, fontsize=20, va='top')\n",
    "\n",
    "    CT = lambda p_range, G, alpha: [contact_tracing(G, alpha, p)[4] for p in p_range]\n",
    "    data = np.load(str(N)+'_'+str(alphas[_al])+'_regular.npy')\n",
    "    \n",
    "    colors = ['r', 'g', 'b', 'm'] \n",
    "    axs[_al].plot(p_ranges[_al], data[0], marker ='*', label = r'$c = 2$', color = colors[0])\n",
    "    axs[_al].plot(p_ranges[_al], data[1], marker = 6, label =r'$c = 3$', color = colors[1])\n",
    "    axs[_al].plot(p_ranges[_al], data[2], marker= 'h', label = r'$c = 4$', color = colors[2])\n",
    "    for cok in [0,1,2]:\n",
    "        if _al == 2:\n",
    "            axs[_al].plot(np.linspace(0.1,0.30, 15), [0 for _ in np.linspace(0.1,0.30, 15)], marker= 'h', label = r'$c = 4$', color = colors[cok])\n",
    "        if _al == 1:\n",
    "            axs[_al].plot(np.linspace(0.1,0.20, 15), [0 for _ in np.linspace(0.1,0.20, 15)], marker= 'h', label = r'$c = 4$', color = colors[cok])\n",
    "        \n",
    "    axs[_al].set_ylim(0, .1)\n",
    "    axs[_al].tick_params(axis='y', labelsize=18)\n",
    "    axs[_al].set_xlim(0.1, .7)\n",
    "    axs[_al].set_xlabel(r'$p$', fontsize = 22)\n",
    "    if _al==0:\n",
    "        axs[_al].set_yticks([0.00, 0.05])\n",
    "\n",
    "axs[0].legend(fontsize = 17)\n",
    "axs[2].tick_params(axis='x', labelsize=18)\n",
    "fig.text(-0.07, 0.5, 'Outbreak Size', ha='center', va='center', rotation='vertical', fontsize = 22,)\n",
    "\n",
    "\n",
    "#plt.savefig(str(N)+'_'+str(alphas)+'_f33.pdf',bbox_inches='tight')   \n",
    "plt.savefig('3a.pdf',bbox_inches='tight')   \n"
   ]
  },
  {
   "cell_type": "code",
   "execution_count": null,
   "metadata": {
    "ExecuteTime": {
     "start_time": "2023-11-30T12:57:05.636878348Z"
    }
   },
   "outputs": [],
   "source": []
  }
 ],
 "metadata": {
  "kernelspec": {
   "display_name": "Python (module anaconda)",
   "language": "python",
   "name": "python3"
  },
  "language_info": {
   "codemirror_mode": {
    "name": "ipython",
    "version": 3
   },
   "file_extension": ".py",
   "mimetype": "text/x-python",
   "name": "python",
   "nbconvert_exporter": "python",
   "pygments_lexer": "ipython3",
   "version": "3.9.18"
  }
 },
 "nbformat": 4,
 "nbformat_minor": 4
}
