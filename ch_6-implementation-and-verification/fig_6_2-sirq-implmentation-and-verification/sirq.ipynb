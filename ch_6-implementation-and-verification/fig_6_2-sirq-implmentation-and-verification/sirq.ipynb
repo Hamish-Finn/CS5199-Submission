{
 "cells": [
  {
   "cell_type": "markdown",
   "metadata": {},
   "source": [
    "Recreating SIR+Q Model Presented by Rizi A, Keating L, Gleeson J et al in their study 'The Unreasonable Effectiveness of Contact Tracing on Networks with' Cliques' in Epydemic\n",
    "\n",
    "Link to paper: https://arxiv.org/abs/2304.10405v2\n",
    "\n",
    "Link to repo: https://github.com/k-rizi/Contact-Tracing-On-Clique-Networks\n"
   ]
  },
  {
   "cell_type": "code",
   "execution_count": null,
   "metadata": {},
   "outputs": [],
   "source": [
    "from epyc import JSONLabNotebook, ParallelLab\n",
    "import epyc\n",
    "import networkx as nx\n",
    "import random, itertools\n",
    "import epydemic\n",
    "import numpy as np\n",
    "from epydemic import SIR, Monitor, ProcessSequence, rng, ERNetwork, SEIR, SIR_FixedRecovery, NetworkGenerator\n",
    "import matplotlib.pyplot as plt\n",
    "from parameters import *"
   ]
  },
  {
   "cell_type": "code",
   "execution_count": null,
   "metadata": {},
   "outputs": [],
   "source": [
    "create_data_output_directory()"
   ]
  },
  {
   "cell_type": "markdown",
   "source": [
    "## Build a subclass of "
   ],
   "metadata": {
    "collapsed": false
   }
  },
  {
   "cell_type": "code",
   "execution_count": null,
   "metadata": {},
   "outputs": [],
   "source": [
    "class RCNetwork(NetworkGenerator):\n",
    "    # Network parameters\n",
    "    N = 'N'\n",
    "    KMEAN = 'kmean'\n",
    "    CLIQUE_SIZE = 'cSize'\n",
    "\n",
    "    def __init__(self, params=None, limit=None):\n",
    "        super(RCNetwork, self).__init__(params, limit)\n",
    "\n",
    "    def topology(self):\n",
    "        return 'RegularClique'\n",
    "\n",
    "    def _generate(self, params):\n",
    "        N, K, c = params[self.N], params[self.KMEAN], params[self.CLIQUE_SIZE]\n",
    "\n",
    "        if K % (c - 1) != 0:\n",
    "            raise Exception('This configuration is not possible')\n",
    "        else:\n",
    "            k = int(K / (c - 1))\n",
    "            m = int(N * k / c)\n",
    "            nodes = [(u, _k) for u in range(N) for _k in range(k)]\n",
    "            random.shuffle(nodes)\n",
    "            cliques = [(u, _k) for u in range(m) for _k in range(c)]\n",
    "            l = list(zip(cliques, nodes))\n",
    "            my_list = [j[1][0] for j in l]\n",
    "            node_collections = [my_list[i:i + c] for i in range(0, len(my_list), c)]\n",
    "            g = nx.Graph()\n",
    "            for col in node_collections:\n",
    "                g.add_edges_from(itertools.combinations(col, 2))\n",
    "            g.remove_edges_from(nx.selfloop_edges(g))\n",
    "        return g"
   ]
  },
  {
   "cell_type": "code",
   "execution_count": 27,
   "metadata": {},
   "outputs": [],
   "source": [
    "class SIRQ(SIR):\n",
    "    P_DETECT = 'pDetect'\n",
    "\n",
    "    QUARANTINE = 'epydemic.sir.Q'\n",
    "    \n",
    "    INFECTION_TIME = 'infectionTime'  \n",
    "\n",
    "    def __init__(self):\n",
    "        super().__init__()\n",
    "\n",
    "    def build(self, params):\n",
    "        pI = params[self.P_INFECT]\n",
    "        pD = params[self.P_DETECT]\n",
    "        pR = params[self.P_REMOVE]\n",
    "\n",
    "        self.addCompartment(self.SUSCEPTIBLE, 1)\n",
    "        self.addCompartment(self.INFECTED, 0)\n",
    "        self.addCompartment(self.REMOVED, 0.0)\n",
    "        self.addCompartment(self.QUARANTINE, 0.0)\n",
    "\n",
    "        self.trackNodesInCompartment(self.INFECTED)\n",
    "        self.trackEdgesBetweenCompartments(self.SUSCEPTIBLE, self.INFECTED, name=self.SI)\n",
    "\n",
    "        # Define the Quarantine event\n",
    "        self.addEventPerElement(self.SI, pD, self.quarantine, name=self.QUARANTINE)\n",
    "        self.addEventPerElement(self.SI, pI, self.infect, name=self.INFECTED)\n",
    "        self.addEventPerElement(self.INFECTED, pR, self.remove, name=self.REMOVED)\n",
    "        \n",
    "\n",
    "    def atEquilibrium(self, t):\n",
    "        return len(self.compartment(self.INFECTED)) == 0\n",
    "\n",
    "    def quarantine(self, t ,e):\n",
    "        (n, _ ) = e\n",
    "        self.changeCompartment(n, self.QUARANTINE)\n",
    "\n",
    "    def initialCompartments(self):\n",
    "        g = self.network()\n",
    "        ns = set(g.nodes())\n",
    "        N = len(ns)\n",
    "\n",
    "        n = rng.integers(N)\n",
    "        self.changeCompartment(n, self.INFECTED)\n",
    "        g.nodes[n][self.INFECTION_TIME] = 0.0\n",
    "\n",
    "        # mark all other nodes as susceptible\n",
    "        ns.remove(n)\n",
    "        for n in ns:\n",
    "            self.changeInitialCompartment(n, self.SUSCEPTIBLE)"
   ]
  },
  {
   "cell_type": "code",
   "execution_count": null,
   "metadata": {},
   "outputs": [],
   "source": [
    "def ex_1_sirq(lab):\n",
    "    lab[SIRQ.P_INFECT] = p_infects\n",
    "    lab[SIRQ.P_DETECT] = p_detect\n",
    "    lab[SIRQ.P_REMOVE] = p_remove\n",
    "\n",
    "    # set the topology for the generated network\n",
    "    lab[RCNetwork.N] = n_RC\n",
    "    lab[RCNetwork.KMEAN] = k_mean_RC\n",
    "    lab[RCNetwork.CLIQUE_SIZE] = c_sizes_RC\n",
    "\n",
    "    lab['ens'] = range(ens)\n",
    "\n",
    "    # create the model, network generator, and experiment\n",
    "    p = SIRQ()\n",
    "    g = RCNetwork()\n",
    "    e = epydemic.SynchronousDynamics(p, g)\n",
    "\n",
    "    # run the experiment\n",
    "    lab.runExperiment(e)"
   ]
  },
  {
   "cell_type": "code",
   "execution_count": null,
   "metadata": {},
   "outputs": [],
   "source": [
    "# Partition the controlled variables into quarters.\n",
    "pis = np.split(p_infects, 2)\n",
    "lab = ParallelLab(JSONLabNotebook(get_out_path(\"ex_1_sirq\"), create=True), cores)"
   ]
  },
  {
   "cell_type": "code",
   "execution_count": null,
   "metadata": {},
   "outputs": [],
   "source": [
    "# To avoid memory issues, run experiment for a quarter of the d_detect range, thus reducing total investigation memory by a factor  of 4\n",
    "for i, pi in enumerate(pis):\n",
    "    p_infects = pi\n",
    "    lab.createWith(get_out_path(\"ex_\" + str(i)), ex_1_sirq)"
   ]
  }
 ],
 "metadata": {
  "kernelspec": {
   "display_name": "venv",
   "language": "python",
   "name": "python3"
  },
  "language_info": {
   "codemirror_mode": {
    "name": "ipython",
    "version": 3
   },
   "file_extension": ".py",
   "mimetype": "text/x-python",
   "name": "python",
   "nbconvert_exporter": "python",
   "pygments_lexer": "ipython3",
   "version": "3.9.18"
  }
 },
 "nbformat": 4,
 "nbformat_minor": 2
}
