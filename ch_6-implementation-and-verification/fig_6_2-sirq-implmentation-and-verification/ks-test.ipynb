{
 "cells": [
  {
   "cell_type": "code",
   "execution_count": 1,
   "metadata": {},
   "outputs": [],
   "source": [
    "from epyc import JSONLabNotebook\n",
    "import epyc\n",
    "import epydemic\n",
    "import numpy as np\n",
    "from epydemic import SEIR, SIR, ERNetwork, Monitor, ProcessSequence\n",
    "import pandas as pd\n",
    "import matplotlib.pyplot as plt\n",
    "from parameters import *\n",
    "from scipy.stats import ks_2samp\n",
    "from matplotlib.gridspec import SubplotSpec\n",
    "import string\n",
    "plt.rcParams.update({'font.size': 13})"
   ]
  },
  {
   "cell_type": "code",
   "execution_count": 2,
   "metadata": {},
   "outputs": [],
   "source": [
    "json_lab = JSONLabNotebook(get_out_path('ex_1_sirq'), create=False)"
   ]
  },
  {
   "cell_type": "code",
   "execution_count": 3,
   "metadata": {},
   "outputs": [],
   "source": [
    "dfs = [json_lab.dataframe(tag=rs) for rs in json_lab.resultSets()]\n",
    "df = pd.concat(dfs)"
   ]
  },
  {
   "cell_type": "code",
   "execution_count": 5,
   "metadata": {},
   "outputs": [
    {
     "name": "stdout",
     "output_type": "stream",
     "text": [
      "KS {2: [0.075, 0.125, 0.075], 3: [0.075, 0.075, 0.05], 4: [0.075, 0.05, 0.05]}\n",
      "P-Value {2: [1.0, 0.919, 1.0], 3: [1.0, 1.0, 1.0], 4: [1.0, 1.0, 1.0]}\n"
     ]
    }
   ],
   "source": [
    "kss = {2: [], 3: [], 4:[]}\n",
    "ps = {2: [], 3: [], 4:[]}\n",
    "\n",
    "for i, pD in enumerate(p_detect):\n",
    "    expected_data_raw = np.load('limerick-data/' + str(n_RC) + \"_\" + str(pD) +'_unprocessed_fig3A.npy')\n",
    "\n",
    "    for j, c in enumerate(c_sizes_RC) :\n",
    "        ob = df.loc[(df[\"cSize\"] == c) & (df[\"pDetect\"] == pD)]\n",
    "        ex = list(zip(*np.array(expected_data_raw[j])))\n",
    "     \n",
    "        mean_od = ob.groupby([SIR.P_INFECT], as_index=False)[[SIR.REMOVED, \"epydemic.sir.Q\"]].mean()\n",
    "        mean_od_vals = (mean_od[SIR.REMOVED] + (mean_od[\"epydemic.sir.Q\"] * mean_od[SIR.P_INFECT])) / n_RC\n",
    "        mean_ed = np.array(ex).mean(axis=1)\n",
    "\n",
    "        ks_statistic, p_value = ks_2samp(mean_ed, mean_od_vals)\n",
    "        kss[c].append(round(ks_statistic,3))\n",
    "        ps[c].append(round(p_value,3))\n",
    "        \n",
    "print(\"KS\", kss)\n",
    "print(\"P-Value\", ps)"
   ]
  }
 ],
 "metadata": {
  "kernelspec": {
   "display_name": "venv",
   "language": "python",
   "name": "python3"
  },
  "language_info": {
   "codemirror_mode": {
    "name": "ipython",
    "version": 3
   },
   "file_extension": ".py",
   "mimetype": "text/x-python",
   "name": "python",
   "nbconvert_exporter": "python",
   "pygments_lexer": "ipython3",
   "version": "3.9.18"
  }
 },
 "nbformat": 4,
 "nbformat_minor": 2
}
