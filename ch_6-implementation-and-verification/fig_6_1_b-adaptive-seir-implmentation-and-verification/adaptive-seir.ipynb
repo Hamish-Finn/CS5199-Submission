{
 "cells": [
  {
   "cell_type": "markdown",
   "metadata": {},
   "source": [
    "Recreating the Adaptive SEIR Model presented in S Dobson's book 'Epidemic modelling – Some notes, maths, and code' under the 'Asymptomatic transmission' chapter.\n",
    "\n",
    "Link to book: https://simondobson.org/introduction-to-epidemics/seir.html\n",
    "\n",
    "Link to repo: https://github.com/simoninireland/introduction-to-epidemics/blob/master/src/seir.ipynb"
   ]
  },
  {
   "cell_type": "code",
   "execution_count": 6,
   "metadata": {},
   "outputs": [],
   "source": [
    "from epyc import JSONLabNotebook, ParallelLab\n",
    "import epyc\n",
    "import epydemic\n",
    "import numpy as np\n",
    "from epydemic import SEIR, SIR, ERNetwork, Monitor, ProcessSequence, rng, SynchronousDynamics\n",
    "from parameters import *"
   ]
  },
  {
   "cell_type": "code",
   "execution_count": 7,
   "metadata": {},
   "outputs": [],
   "source": [
    "create_data_output_directory()"
   ]
  },
  {
   "cell_type": "markdown",
   "metadata": {},
   "source": [
    "The following class extends the standard SEIR model to use an additional ```def quarantine(self, n)``` function. This function will rewire a fraction of SI edges to an infected node thus removing a proportion (```P_REWIRE```) of connections with adjacent susceptible neighbors.  "
   ]
  },
  {
   "cell_type": "code",
   "execution_count": 8,
   "metadata": {},
   "outputs": [],
   "source": [
    "# The code below was taken from a GitHub repo by Simon Dobson at https://github.com/simoninireland/introduction-to-epidemics/blob/master/src/seir.ipynb (last accessed 2023-11-09) \n",
    "class AdaptiveSEIR(SEIR):\n",
    "    P_DETECT = 'pDetect'  #: Parameter for the probability of detecting an exposed neighbour of an infected node.\n",
    "    P_REWIRE = 'pRewire'  #: Parameter for the probability of rewiring an SE or SI edge.\n",
    "\n",
    "    def __init__(self):\n",
    "        super(AdaptiveSEIR, self).__init__()\n",
    "        self._pDetect = None\n",
    "        self._pRewire = None\n",
    "\n",
    "    def build(self, params):\n",
    "        super(AdaptiveSEIR, self).build(params)\n",
    "\n",
    "        # store the parameters for later\n",
    "        self._pDetect = params[self.P_DETECT]\n",
    "        self._pRewire = params[self.P_REWIRE]\n",
    "\n",
    "        # also monitor other compartments\n",
    "        self.trackNodesInCompartment(epydemic.SEIR.SUSCEPTIBLE)\n",
    "        self.trackNodesInCompartment(epydemic.SEIR.REMOVED)\n",
    "\n",
    "    def quarantine(self, n):\n",
    "        g = self.network()\n",
    "        rng = np.random.default_rng()\n",
    "        ms = list(g.neighbors(n))\n",
    "        for m in ms:\n",
    "            if self.getCompartment(m) == self.SUSCEPTIBLE and rng.random() <= self._pRewire:\n",
    "                # a susceptible neighbour, remove link to us\n",
    "                self.removeEdge(n, m)\n",
    "\n",
    "                # rewire to another random susceptible\n",
    "                mprime = self.locus(self.SUSCEPTIBLE).draw()\n",
    "                self.addEdge(m, mprime)\n",
    "\n",
    "    def symptoms(self, t, n):\n",
    "        # perform a normal becoming-symptomatic event\n",
    "        super(AdaptiveSEIR, self).symptoms(t, n)\n",
    "\n",
    "        g = self.network()\n",
    "        rng = np.random.default_rng()\n",
    "\n",
    "        # examine all neighbours and look for exposed\n",
    "        # nodes to quarantine\n",
    "        ms = list(g.neighbors(n))\n",
    "        for m in ms:\n",
    "            if self.getCompartment(m) == self.EXPOSED and rng.random() <= self._pDetect:\n",
    "                # detected an exposed individual,\n",
    "                # quarantine them\n",
    "                self.quarantine(m)\n",
    "\n",
    "        # quarantine the newly symptomatic node\n",
    "        self.quarantine(n)\n",
    "# END Copied Code"
   ]
  },
  {
   "cell_type": "code",
   "execution_count": 9,
   "metadata": {},
   "outputs": [],
   "source": [
    "def ex_1_original_seir(lab):\n",
    "    # set the disease parameter space\n",
    "    lab[SEIR.P_EXPOSED] = p_exposed\n",
    "    lab[SEIR.P_INFECT_SYMPTOMATIC] = p_infect\n",
    "    lab[SEIR.P_INFECT_ASYMPTOMATIC] = p_infect\n",
    "    lab[SEIR.P_REMOVE] = p_remove\n",
    "    lab[SEIR.P_SYMPTOMS] = p_remove\n",
    "        \n",
    "    lab[AdaptiveSEIR.P_REWIRE] = p_rewire\n",
    "    lab[AdaptiveSEIR.P_DETECT] = p_detect\n",
    "\n",
    "    lab[epydemic.Monitor.DELTA] = delta\n",
    "    \n",
    "    lab['ens'] = range(ens)\n",
    "\n",
    "    # set the topology for the generated network\n",
    "    lab[ERNetwork.N] = n\n",
    "    lab[ERNetwork.KMEAN] = k_mean\n",
    "\n",
    "    # create the model, network generator, and experiment\n",
    "    p = AdaptiveSEIR()\n",
    "    g = ERNetwork()\n",
    "    e = epydemic.StochasticDynamics(p, g)\n",
    "\n",
    "    # run the experiment\n",
    "    lab.runExperiment(e)"
   ]
  },
  {
   "cell_type": "code",
   "execution_count": 10,
   "metadata": {},
   "outputs": [
    {
     "data": {
      "text/plain": [
       "True"
      ]
     },
     "execution_count": 10,
     "metadata": {},
     "output_type": "execute_result"
    }
   ],
   "source": [
    "lab = ParallelLab(JSONLabNotebook(get_out_path(\"basic-seir-data\"), create=True), cores)\n",
    "lab.createWith(get_out_path(\"basic-seir-data\"), ex_1_original_seir)"
   ]
  }
 ],
 "metadata": {
  "kernelspec": {
   "display_name": "venv",
   "language": "python",
   "name": "python3"
  },
  "language_info": {
   "codemirror_mode": {
    "name": "ipython",
    "version": 3
   },
   "file_extension": ".py",
   "mimetype": "text/x-python",
   "name": "python",
   "nbconvert_exporter": "python",
   "pygments_lexer": "ipython3",
   "version": "3.9.18"
  }
 },
 "nbformat": 4,
 "nbformat_minor": 2
}
